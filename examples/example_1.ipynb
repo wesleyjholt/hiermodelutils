{
 "cells": [
  {
   "cell_type": "code",
   "execution_count": 7,
   "metadata": {},
   "outputs": [],
   "source": [
    "import jax\n",
    "import jax.numpy as jnp\n",
    "import numpyro\n",
    "import numpyro.distributions as dist\n",
    "from numpyro.infer import MCMC, NUTS, Predictive\n",
    "from numpyro.infer.reparam import LocScaleReparam\n",
    "import equinox as eqx\n",
    "import numpy as np\n",
    "from typing import NamedTuple\n",
    "import matplotlib.pyplot as plt\n",
    "from hiermodelutils import stochasticmodel, Parameter, draw_sample_and_update_model, set_all_model_parameters_from_samples\n",
    "\n",
    "pprint = eqx.tree_pprint\n",
    "key, subkey = jax.random.split(jax.random.PRNGKey(0))"
   ]
  },
  {
   "cell_type": "markdown",
   "metadata": {},
   "source": [
    "## Model\n",
    "\n",
    "$$\n",
    "\\begin{gather}\n",
    "\\mu \\sim N(0, 100) \\\\\n",
    "\\tau \\sim \\text{HalfCauchy}(0, 1) \\\\\n",
    "\\theta_i \\sim N(\\mu, \\tau^2) \\\\\n",
    "y_{ij} \\sim N(\\theta_i, \\sigma^2) \\\\\n",
    "\\end{gather}\n",
    "$$"
   ]
  },
  {
   "cell_type": "code",
   "execution_count": 2,
   "metadata": {},
   "outputs": [
    {
     "name": "stderr",
     "output_type": "stream",
     "text": [
      "sample: 100%|██████████| 1500/1500 [00:01<00:00, 1462.04it/s, 7 steps of size 2.79e-01. acc. prob=0.87]\n"
     ]
    },
    {
     "name": "stdout",
     "output_type": "stream",
     "text": [
      "\n",
      "                         mean       std    median      5.0%     95.0%     n_eff     r_hat\n",
      "                 mu     -1.50      0.41     -1.54     -2.17     -0.79    142.65      1.01\n",
      "                tau      0.78      0.29      0.73      0.35      1.26    242.48      1.00\n",
      "theta_decentered[0]      0.45      0.57      0.47     -0.54      1.32    165.67      1.00\n",
      "theta_decentered[1]     -0.65      0.59     -0.62     -1.51      0.36    264.28      1.01\n",
      "theta_decentered[2]     -1.09      0.63     -1.05     -2.03     -0.04    272.56      1.01\n",
      "theta_decentered[3]      0.75      0.59      0.76     -0.18      1.72    171.74      1.00\n",
      "theta_decentered[4]      0.63      0.60      0.64     -0.35      1.51    168.75      1.01\n",
      "\n",
      "Number of divergences: 0\n"
     ]
    }
   ],
   "source": [
    "@stochasticmodel(\"theta\")\n",
    "class Theta(eqx.Module):\n",
    "    mu: float\n",
    "    tau: float\n",
    "    def get_distribution(self):\n",
    "        return dist.Normal(self.mu, self.tau)\n",
    "\n",
    "@stochasticmodel(\"y\")\n",
    "class Y(eqx.Module):\n",
    "    sigma: float\n",
    "    def get_distribution(self, theta):\n",
    "        return dist.Normal(theta, self.sigma)\n",
    "\n",
    "class LikelihoodModels(NamedTuple):\n",
    "    theta: eqx.Module\n",
    "    y: eqx.Module\n",
    "\n",
    "likelihood_models = LikelihoodModels(theta=Theta(1.0, 1.0), y=Y(1.0))\n",
    "\n",
    "prior_models = dict(\n",
    "    mu = Parameter(path=lambda m: m.theta.mu, distribution=dist.Normal(0, 10)),\n",
    "    tau = Parameter(path=lambda m: m.theta.tau, distribution=dist.HalfNormal(1)),\n",
    "    sigma = Parameter(path=lambda m: m.y.sigma, distribution=dist.HalfNormal(1))\n",
    ")\n",
    "\n",
    "true_prior_models = dict(\n",
    "    mu = Parameter(path=lambda m: m.theta.mu, distribution=dist.Normal(0.5, 0.5)),\n",
    "    tau = Parameter(path=lambda m: m.theta.tau, distribution=dist.HalfNormal(0.2)),\n",
    "    sigma = Parameter(path=lambda m: m.y.sigma, distribution=dist.HalfNormal(0.3))\n",
    ")\n",
    "\n",
    "def full_model(likelihood_models, prior_models, data=None):\n",
    "    if data is None:\n",
    "        y_obs = None\n",
    "    else:\n",
    "        y_obs = data[\"y\"]\n",
    "    lm = likelihood_models\n",
    "    lm = draw_sample_and_update_model(\"mu\", lm, prior_models)\n",
    "    lm = draw_sample_and_update_model(\"tau\", lm, prior_models)\n",
    "    with numpyro.handlers.reparam(config={\"theta\": LocScaleReparam(centered=0)}):\n",
    "        with numpyro.plate(\"groups\", 5):\n",
    "            theta = lm.theta()\n",
    "            with numpyro.plate(\"data\", 20):\n",
    "                y = lm.y(theta, obs=y_obs)\n",
    "    return locals()\n",
    "\n",
    "key, subkey = jax.random.split(key)\n",
    "with numpyro.handlers.seed(rng_seed=subkey):\n",
    "    tmp = full_model(likelihood_models, prior_models)\n",
    "    data = dict(y=tmp[\"y\"])\n",
    "    ground_truth = dict(\n",
    "        mu = prior_models[\"mu\"].path(tmp[\"lm\"]), \n",
    "        tau = prior_models[\"tau\"].path(tmp[\"lm\"]),\n",
    "        sigma = prior_models[\"sigma\"].path(tmp[\"lm\"]),\n",
    "        theta = tmp[\"theta\"]\n",
    "    )\n",
    "\n",
    "# Create the NUTS sampler\n",
    "nuts_kernel = NUTS(full_model)\n",
    "\n",
    "# Run the sampler\n",
    "mcmc = MCMC(nuts_kernel, num_samples=1000, num_warmup=500)\n",
    "\n",
    "key, subkey = jax.random.split(key)\n",
    "mcmc.run(subkey, likelihood_models, prior_models, data=data)\n",
    "\n",
    "# Get the samples\n",
    "samples = mcmc.get_samples()\n",
    "\n",
    "mcmc.print_summary()"
   ]
  },
  {
   "cell_type": "code",
   "execution_count": 3,
   "metadata": {},
   "outputs": [
    {
     "data": {
      "text/plain": [
       "Array([-1.187583 , -1.9545194, -2.2620332, -0.9809684, -1.067381 ],      dtype=float32)"
      ]
     },
     "execution_count": 3,
     "metadata": {},
     "output_type": "execute_result"
    }
   ],
   "source": [
    "samples[\"theta\"].mean(axis=0)"
   ]
  },
  {
   "cell_type": "code",
   "execution_count": 4,
   "metadata": {},
   "outputs": [
    {
     "data": {
      "text/plain": [
       "{'mu': Array(-1.6758952, dtype=float32),\n",
       " 'tau': Array(0.8264735, dtype=float32),\n",
       " 'sigma': 1.0,\n",
       " 'theta': Array([-1.2992916 , -2.0699046 , -2.41025   , -0.69256365, -1.6783383 ],      dtype=float32)}"
      ]
     },
     "execution_count": 4,
     "metadata": {},
     "output_type": "execute_result"
    }
   ],
   "source": [
    "ground_truth"
   ]
  },
  {
   "cell_type": "code",
   "execution_count": 21,
   "metadata": {},
   "outputs": [
    {
     "data": {
      "image/png": "[encoded data removed]",
      "text/plain": [
       "<Figure size 640x480 with 1 Axes>"
      ]
     },
     "metadata": {},
     "output_type": "display_data"
    }
   ],
   "source": [
    "def new_model(likelihood_models, prior_models):\n",
    "    lm = likelihood_models\n",
    "    lm = draw_sample_and_update_model(\"mu\", lm, prior_models)\n",
    "    lm = draw_sample_and_update_model(\"tau\", lm, prior_models)\n",
    "    return lm.theta(suffix=\"new\")\n",
    "    # return numpyro.sample(\"theta_new2\", dist.Normal(lm.theta.mu, lm.theta.tau))\n",
    "\n",
    "new_samples = Predictive(new_model, samples)(subkey, likelihood_models, prior_models)\n",
    "fig, ax = plt.subplots()\n",
    "ax.hist(np.array(new_samples[\"theta_new\"]), bins=30, alpha=0.8, density=True);\n",
    "for i in range(5):\n",
    "    ax.axvline(samples[\"theta\"][:,i].mean(), color=\"black\", lw=1, linestyle=\"--\")\n",
    "    ax.hist(samples[\"theta\"][:,i], bins=20, alpha=0.2, density=True);"
   ]
  },
  {
   "cell_type": "code",
   "execution_count": 39,
   "metadata": {},
   "outputs": [
    {
     "data": {
      "text/plain": [
       "dict_keys(['mu', 'tau', 'theta', 'theta_decentered'])"
      ]
     },
     "execution_count": 39,
     "metadata": {},
     "output_type": "execute_result"
    }
   ],
   "source": [
    "samples.keys()"
   ]
  },
  {
   "cell_type": "code",
   "execution_count": 10,
   "metadata": {},
   "outputs": [
    {
     "name": "stdout",
     "output_type": "stream",
     "text": [
      "LikelihoodModels(\n",
      "  a=ModelA(mu=1.0, tau=1.0, name='theta', samples=None),\n",
      "  b=ModelB(sigma=1.0, name='y', samples=None)\n",
      ")\n",
      "{\n",
      "  'mu':\n",
      "  Parameter(\n",
      "    path=<function <lambda>>,\n",
      "    distribution=<numpyro.distributions.continuous.Normal object at 0x2a205e8d0>\n",
      "  ),\n",
      "  'tau':\n",
      "  Parameter(\n",
      "    path=<function <lambda>>,\n",
      "    distribution=<numpyro.distributions.continuous.HalfNormal object at 0x2a0aedf90>\n",
      "  ),\n",
      "  'sigma':\n",
      "  Parameter(\n",
      "    path=<function <lambda>>,\n",
      "    distribution=<numpyro.distributions.continuous.HalfNormal object at 0x2a205e990>\n",
      "  )\n",
      "}\n"
     ]
    }
   ],
   "source": [
    "pprint(likelihood_models)\n",
    "pprint(prior_models)"
   ]
  }
 ],
 "metadata": {
  "kernelspec": {
   "display_name": ".venv",
   "language": "python",
   "name": "python3"
  },
  "language_info": {
   "codemirror_mode": {
    "name": "ipython",
    "version": 3
   },
   "file_extension": ".py",
   "mimetype": "text/x-python",
   "name": "python",
   "nbconvert_exporter": "python",
   "pygments_lexer": "ipython3",
   "version": "3.11.6"
  }
 },
 "nbformat": 4,
 "nbformat_minor": 2
}
